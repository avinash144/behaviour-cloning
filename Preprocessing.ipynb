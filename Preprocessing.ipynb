{
 "cells": [
  {
   "cell_type": "code",
   "execution_count": 1,
   "metadata": {
    "collapsed": true
   },
   "outputs": [],
   "source": [
    "import numpy as np\n",
    "import random\n",
    "\n",
    "# For loading and displaying images\n",
    "import matplotlib.image as mpimg\n",
    "import matplotlib.pyplot as plt\n",
    "import matplotlib.gridspec as gridspec\n",
    "# Visualizations will be shown in the notebook.\n",
    "%matplotlib inline\n",
    "\n",
    "# OpenCV for image manipulation\n",
    "import cv2\n",
    "\n",
    "# Pandas for loading csv files and dataframes\n",
    "import pandas as pd"
   ]
  },
  {
   "cell_type": "code",
   "execution_count": 2,
   "metadata": {
    "collapsed": true
   },
   "outputs": [],
   "source": [
    "import os\n",
    "import platform"
   ]
  },
  {
   "cell_type": "code",
   "execution_count": 3,
   "metadata": {
    "collapsed": false
   },
   "outputs": [
    {
     "name": "stdout",
     "output_type": "stream",
     "text": [
      "Windows\n",
      "C:\\Users\\avinash\\version-control\\SDC\\term1\\P3\n",
      "C:\\Users\\avinash\\version-control\\SDC\\term1\\P3\\data\\driving_log.csv C:\\Users\\avinash\\version-control\\SDC\\term1\\P3\\data\\IMG\n"
     ]
    }
   ],
   "source": [
    "os_type = platform.system()\n",
    "print(os_type)\n",
    "\n",
    "joiner = '/'\n",
    "\n",
    "if os_type == 'Windows':\n",
    "    joiner = '\\\\'\n",
    "\n",
    "path = os.getcwd()\n",
    "print(path)\n",
    "\n",
    "\n",
    "data_path = path + joiner + r'data' + joiner\n",
    "data_log_path = data_path + r'driving_log.csv'\n",
    "images_path = data_path + r'IMG'\n",
    "\n",
    "\n",
    "print(data_log_path,images_path)"
   ]
  },
  {
   "cell_type": "code",
   "execution_count": 4,
   "metadata": {
    "collapsed": false
   },
   "outputs": [
    {
     "name": "stdout",
     "output_type": "stream",
     "text": [
      "          steering     throttle        brake        speed\n",
      "count  8036.000000  8036.000000  8036.000000  8036.000000\n",
      "mean      0.004070     0.869660     0.001970    28.169839\n",
      "std       0.128840     0.301326     0.036565     6.149327\n",
      "min      -0.942695     0.000000     0.000000     0.502490\n",
      "25%       0.000000     0.985533     0.000000    30.183093\n",
      "50%       0.000000     0.985533     0.000000    30.186400\n",
      "75%       0.000000     0.985533     0.000000    30.186640\n",
      "max       1.000000     0.985533     1.000000    30.709360\n"
     ]
    }
   ],
   "source": [
    "data_log = pd.read_csv(data_log_path)\n",
    "\n",
    "print(data_log.describe())"
   ]
  },
  {
   "cell_type": "code",
   "execution_count": 5,
   "metadata": {
    "collapsed": true
   },
   "outputs": [],
   "source": [
    "new_height,new_width,channels = 66,200,3 #global variables\n",
    "import math"
   ]
  },
  {
   "cell_type": "code",
   "execution_count": 56,
   "metadata": {
    "collapsed": false
   },
   "outputs": [],
   "source": [
    "def get_img(file_path):\n",
    "    img = cv2.imread(file_path)\n",
    "    img = cv2.cvtColor(img,cv2.COLOR_BGR2RGB)\n",
    "    return img\n",
    "\n",
    "def get_resized_img(img):\n",
    "    img = cv2.resize(img,(new_width,new_height),interpolation=cv2.INTER_AREA)\n",
    "    return img\n",
    "\n",
    "def crop_img(img):\n",
    "    height = img.shape[0]\n",
    "    width = img.shape[1]\n",
    "    top = math.floor(height/5)\n",
    "    bottom = height - 25\n",
    "    img = img[top:bottom]\n",
    "    return img\n",
    "\n",
    "def translate_img(img):\n",
    "    \n",
    "    return img\n",
    "\n",
    "\n",
    "def preprocess_images(row_data,validation = False):\n",
    "    # Get paths\n",
    "    selector = np.random.randint(3)\n",
    "    \n",
    "    # zero for left\n",
    "    if selector == 0:\n",
    "        img_path = data_path + row_data.iloc[0]['left'].strip()\n",
    "        shift_ang = .25\n",
    "        \n",
    "    # one for center\n",
    "    elif selector == 1:\n",
    "        img_path = data_path + row_data.iloc[0]['center'].strip()\n",
    "        shift_ang = 0.\n",
    "        \n",
    "    # two for right\n",
    "    else:\n",
    "        img_path = data_path + row_data.iloc[0]['right'].strip()\n",
    "        shift_ang = -.25\n",
    "    \n",
    "    img = get_img(img_path)\n",
    "    img = crop_img(img)\n",
    "    img = get_resized_img(img)\n",
    "    \n",
    "    steering = row_data.iloc[0]['steering']\n",
    "    print(steering)\n",
    "    \n",
    "    steering = steering + shift_ang\n",
    "    \n",
    "    if validation:\n",
    "        return img,steering\n",
    "    \n",
    "    rnd_num = np.random.randint(2)\n",
    "    if rnd_num == 0:\n",
    "        print(\"flip\")\n",
    "        img = cv2.flip(img,1)\n",
    "        steering = -steering\n",
    "        \n",
    "    \n",
    "    return img,steering"
   ]
  },
  {
   "cell_type": "code",
   "execution_count": null,
   "metadata": {
    "collapsed": true
   },
   "outputs": [],
   "source": []
  },
  {
   "cell_type": "code",
   "execution_count": 63,
   "metadata": {
    "collapsed": false
   },
   "outputs": [
    {
     "name": "stdout",
     "output_type": "stream",
     "text": [
      "0.0\n",
      "0.0\n"
     ]
    },
    {
     "data": {
      "text/plain": [
       "<matplotlib.image.AxesImage at 0x175e459ce10>"
      ]
     },
     "execution_count": 63,
     "metadata": {},
     "output_type": "execute_result"
    },
    {
     "data": {
      "image/png": "[encoded data removed]",
      "text/plain": [
       "<matplotlib.figure.Figure at 0x175e42f12b0>"
      ]
     },
     "metadata": {},
     "output_type": "display_data"
    }
   ],
   "source": [
    "length_of_data = len(data_log)\n",
    "selector = np.random.randint(length_of_data)\n",
    "row_data = data_log.iloc[[selector]]\n",
    "x,y = preprocess_images(row_data)\n",
    "print(y)\n",
    "plt.imshow(x)\n"
   ]
  },
  {
   "cell_type": "code",
   "execution_count": null,
   "metadata": {
    "collapsed": false
   },
   "outputs": [],
   "source": [
    "def get_resized_img(file_path):\n",
    "    img = cv2.imread(file_path)\n",
    "    img = cv2.cvtColor(img,cv2.COLOR_BGR2RGB)\n",
    "    img = cv2.resize(img,(new_width,new_height),interpolation=cv2.INTER_AREA)\n",
    "    return img\n",
    "\n",
    "def preprocess_images(row_data,validation = False):\n",
    "    # Get paths\n",
    "    l_img_path = data_path + row_data.iloc[0]['left'].strip()\n",
    "    shift_ang = .25\n",
    "    c_img_path = data_path + row_data.iloc[0]['center'].strip()\n",
    "    r_img_path = data_path + row_data.iloc[0]['right'].strip()\n",
    "    \n",
    "    img = get_resized_img(c_img_path)\n",
    "    \n",
    "    if validation:\n",
    "        return img\n",
    "    \n",
    "    return img"
   ]
  },
  {
   "cell_type": "code",
   "execution_count": 55,
   "metadata": {
    "collapsed": false
   },
   "outputs": [
    {
     "name": "stdout",
     "output_type": "stream",
     "text": [
      "1\n"
     ]
    }
   ],
   "source": [
    "print(np.random.randint(2))"
   ]
  }
 ],
 "metadata": {
  "anaconda-cloud": {},
  "kernelspec": {
   "display_name": "Python [conda env:carnd-term1]",
   "language": "python",
   "name": "conda-env-carnd-term1-py"
  },
  "language_info": {
   "codemirror_mode": {
    "name": "ipython",
    "version": 3
   },
   "file_extension": ".py",
   "mimetype": "text/x-python",
   "name": "python",
   "nbconvert_exporter": "python",
   "pygments_lexer": "ipython3",
   "version": "3.5.2"
  }
 },
 "nbformat": 4,
 "nbformat_minor": 1
}
